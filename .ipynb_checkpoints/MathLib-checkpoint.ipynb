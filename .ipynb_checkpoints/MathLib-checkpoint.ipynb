{
 "cells": [
  {
   "cell_type": "markdown",
   "id": "ff5450bd-59a4-4f56-92fa-a24c3cec8f28",
   "metadata": {},
   "source": [
    "# Look! I'm a Notebook which supports python!"
   ]
  },
  {
   "cell_type": "code",
   "execution_count": 12,
   "id": "349d7653-0a0a-45cb-9292-131e1f6087a4",
   "metadata": {},
   "outputs": [],
   "source": [
    "#python code"
   ]
  },
  {
   "cell_type": "code",
   "execution_count": 13,
   "id": "8a5bc7f6-0449-4cb3-af74-2b3b0af9b59a",
   "metadata": {},
   "outputs": [
    {
     "data": {
      "text/plain": [
       "170"
      ]
     },
     "execution_count": 13,
     "metadata": {},
     "output_type": "execute_result"
    }
   ],
   "source": [
    "#Binary\n",
    "x : int = 0b10101010\n",
    "x"
   ]
  },
  {
   "cell_type": "code",
   "execution_count": 14,
   "id": "26935a05-3ffa-4eb3-8443-805f115e34e2",
   "metadata": {},
   "outputs": [
    {
     "data": {
      "text/plain": [
       "41807"
      ]
     },
     "execution_count": 14,
     "metadata": {},
     "output_type": "execute_result"
    }
   ],
   "source": [
    "#hexadecimal\n",
    "x : int = 0xa34f\n",
    "x"
   ]
  },
  {
   "cell_type": "code",
   "execution_count": 15,
   "id": "8eb14ec2-7a8b-43be-b7e4-3b7bf370ffb6",
   "metadata": {},
   "outputs": [
    {
     "data": {
      "text/plain": [
       "56"
      ]
     },
     "execution_count": 15,
     "metadata": {},
     "output_type": "execute_result"
    }
   ],
   "source": [
    "#Decimal\n",
    "x : int = 56\n",
    "x"
   ]
  },
  {
   "cell_type": "code",
   "execution_count": 16,
   "id": "08b963ac-2fe4-4e27-9470-086bd1ab6581",
   "metadata": {},
   "outputs": [
    {
     "data": {
      "text/plain": [
       "302"
      ]
     },
     "execution_count": 16,
     "metadata": {},
     "output_type": "execute_result"
    }
   ],
   "source": [
    "#octal\n",
    "x : int = 0o456\n",
    "x"
   ]
  },
  {
   "cell_type": "markdown",
   "id": "f2520432-fe06-4ac1-88a7-3eed4795c169",
   "metadata": {},
   "source": [
    "## Time for Math Library"
   ]
  },
  {
   "cell_type": "code",
   "execution_count": 23,
   "id": "03ada3db-531e-492f-ab53-c684fe29f1a9",
   "metadata": {},
   "outputs": [],
   "source": [
    "from math import *"
   ]
  },
  {
   "cell_type": "code",
   "execution_count": 18,
   "id": "faf1ae05-878f-43a2-aba5-893db71d96db",
   "metadata": {},
   "outputs": [],
   "source": [
    "x,y,z = 10,100,1000"
   ]
  },
  {
   "cell_type": "code",
   "execution_count": 19,
   "id": "b0e568ab-9646-4c38-9d68-1593b5efaead",
   "metadata": {},
   "outputs": [
    {
     "data": {
      "text/plain": [
       "10"
      ]
     },
     "execution_count": 19,
     "metadata": {},
     "output_type": "execute_result"
    }
   ],
   "source": [
    "min(x,y,z)\n"
   ]
  },
  {
   "cell_type": "code",
   "execution_count": 20,
   "id": "c501d540-7a1b-434a-82a5-e6c6b0505960",
   "metadata": {},
   "outputs": [
    {
     "data": {
      "text/plain": [
       "1000"
      ]
     },
     "execution_count": 20,
     "metadata": {},
     "output_type": "execute_result"
    }
   ],
   "source": [
    "max(x,y,z)"
   ]
  },
  {
   "cell_type": "code",
   "execution_count": 21,
   "id": "4bbdf1bf-75e9-4215-8515-7b34f471c153",
   "metadata": {},
   "outputs": [],
   "source": [
    "x,y,z= 100.23 , -100.67 , 0.1"
   ]
  },
  {
   "cell_type": "code",
   "execution_count": 22,
   "id": "cc03fdae-2b7b-4789-bf9a-b191270bd87f",
   "metadata": {},
   "outputs": [],
   "source": [
    "L = [x,y,x]"
   ]
  },
  {
   "cell_type": "code",
   "execution_count": 25,
   "id": "8a0c480f-f416-4601-8703-409f8c222725",
   "metadata": {},
   "outputs": [
    {
     "name": "stdout",
     "output_type": "stream",
     "text": [
      "The Floor of 100.23 is : 100\n",
      "The absolute value of 100.23 is : 100.23\n",
      " the Ceil of 100.23 is : 101\n",
      "The Absolute of 100.23 is : 100.23\n",
      "The Floor of -100.67 is : -101\n",
      "The absolute value of -100.67 is : 100.67\n",
      " the Ceil of -100.67 is : -100\n",
      "The Absolute of -100.67 is : 100.67\n",
      "The Floor of 100.23 is : 100\n",
      "The absolute value of 100.23 is : 100.23\n",
      " the Ceil of 100.23 is : 101\n",
      "The Absolute of 100.23 is : 100.23\n"
     ]
    }
   ],
   "source": [
    "for i in L:\n",
    "    print(f\"The Floor of {i} is : {floor(i)}\")\n",
    "    print(f\"The absolute value of {i} is : {abs(i)}\")\n",
    "    print(f\" the Ceil of {i} is : {ceil(i)}\")\n",
    "    print(f\"The Absolute of {i} is : {fabs(i)}\")\n",
    "    "
   ]
  },
  {
   "cell_type": "code",
   "execution_count": 26,
   "id": "d52af865-0bba-48b2-9270-815eec408deb",
   "metadata": {},
   "outputs": [
    {
     "name": "stdin",
     "output_type": "stream",
     "text": [
      "Number 1 : 2\n",
      "number 2 :  4\n"
     ]
    }
   ],
   "source": [
    "x = int(input(\"Number 1 :\"))\n",
    "y = int(input(\"number 2 : \"))\n"
   ]
  },
  {
   "cell_type": "code",
   "execution_count": 29,
   "id": "d51207a2-c8ea-4cc6-a2dc-3407c2ed248c",
   "metadata": {},
   "outputs": [
    {
     "name": "stdout",
     "output_type": "stream",
     "text": [
      "2*4 is : 8\n",
      "2-4 is : -2\n",
      "2+4 is : 6\n",
      "2/4 is : 0.5\n",
      "2 raised to power 4 is : 16\n"
     ]
    }
   ],
   "source": [
    "print(f\"{x}*{y} is : {x*y}\")\n",
    "print(f\"{x}-{y} is : {x-y}\")\n",
    "print(f\"{x}+{y} is : {x+y}\")\n",
    "print(f\"{x}/{y} is : {x/y}\")\n",
    "print(f\"{x} raised to power {y} is : {x**y}\")"
   ]
  },
  {
   "cell_type": "code",
   "execution_count": null,
   "id": "524e8a32-fbf0-4503-82c4-f1436a074f2f",
   "metadata": {},
   "outputs": [],
   "source": []
  }
 ],
 "metadata": {
  "kernelspec": {
   "display_name": "Python 3 (ipykernel)",
   "language": "python",
   "name": "python3"
  },
  "language_info": {
   "codemirror_mode": {
    "name": "ipython",
    "version": 3
   },
   "file_extension": ".py",
   "mimetype": "text/x-python",
   "name": "python",
   "nbconvert_exporter": "python",
   "pygments_lexer": "ipython3",
   "version": "3.9.2"
  }
 },
 "nbformat": 4,
 "nbformat_minor": 5
}
