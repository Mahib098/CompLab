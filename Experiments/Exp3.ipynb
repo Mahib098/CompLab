{
 "cells": [
  {
   "cell_type": "code",
   "execution_count": 1,
   "id": "72d401dc-7f4f-43ab-9993-5def93ab7e4e",
   "metadata": {},
   "outputs": [],
   "source": [
    "def isEven(n):\n",
    "    if ((n ^ 1) == (n + 1)):\n",
    "        return True\n",
    "    else:\n",
    "        return False"
   ]
  },
  {
   "cell_type": "code",
   "execution_count": null,
   "id": "d0b88a40-12a1-4fd6-9d4c-b8c2053839a7",
   "metadata": {},
   "outputs": [],
   "source": []
  },
  {
   "cell_type": "code",
   "execution_count": null,
   "id": "17f9c8b0-36fa-44bb-bb4c-b61fbb13434a",
   "metadata": {},
   "outputs": [],
   "source": []
  }
 ],
 "metadata": {
  "kernelspec": {
   "display_name": "Python 3 (ipykernel)",
   "language": "python",
   "name": "python3"
  },
  "language_info": {
   "codemirror_mode": {
    "name": "ipython",
    "version": 3
   },
   "file_extension": ".py",
   "mimetype": "text/x-python",
   "name": "python",
   "nbconvert_exporter": "python",
   "pygments_lexer": "ipython3",
   "version": "3.9.2"
  }
 },
 "nbformat": 4,
 "nbformat_minor": 5
}
