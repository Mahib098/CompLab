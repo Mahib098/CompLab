{
 "cells": [
  {
   "cell_type": "code",
   "execution_count": 12,
   "id": "c8f9aacf-5fba-416f-b66f-d8cb938c8b5c",
   "metadata": {},
   "outputs": [],
   "source": [
    "def FibSeries(Nth):\n",
    "    n1 = 0 \n",
    "    n2 = 1\n",
    "\n",
    "    for i in range(Nth//2):\n",
    "        print(n1 , end = \" \")\n",
    "        print(n2 , end = \" \")\n",
    "        n1 = n1 + n2\n",
    "        n2 = n1 + n2\n",
    "\n",
    "    if Nth%2 == 0 :\n",
    "        return\n",
    "    else:\n",
    "        print(n1 , end = \" \")"
   ]
  },
  {
   "cell_type": "code",
   "execution_count": 15,
   "id": "16acfd67-3c1a-4ede-bbf2-c3b439795fef",
   "metadata": {},
   "outputs": [
    {
     "name": "stdout",
     "output_type": "stream",
     "text": [
      "0 1 1 2 3 5 8 13 21 34 55 89 144 233 377 610 987 1597 2584 4181 "
     ]
    }
   ],
   "source": [
    "FibSeries(20)"
   ]
  }
 ],
 "metadata": {
  "kernelspec": {
   "display_name": "Python 3 (ipykernel)",
   "language": "python",
   "name": "python3"
  },
  "language_info": {
   "codemirror_mode": {
    "name": "ipython",
    "version": 3
   },
   "file_extension": ".py",
   "mimetype": "text/x-python",
   "name": "python",
   "nbconvert_exporter": "python",
   "pygments_lexer": "ipython3",
   "version": "3.9.2"
  }
 },
 "nbformat": 4,
 "nbformat_minor": 5
}
