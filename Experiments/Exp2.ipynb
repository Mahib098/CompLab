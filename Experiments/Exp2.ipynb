{
 "cells": [
  {
   "cell_type": "code",
   "execution_count": 1,
   "id": "8b8b4945-6eb3-4c3b-b633-330674d05571",
   "metadata": {},
   "outputs": [],
   "source": [
    "from math import *"
   ]
  },
  {
   "cell_type": "code",
   "execution_count": 2,
   "id": "db155b22-c100-4ac2-9eea-10554c7fc9c7",
   "metadata": {},
   "outputs": [
    {
     "name": "stdin",
     "output_type": "stream",
     "text": [
      "Enter the radius of the circle 45.3\n"
     ]
    }
   ],
   "source": [
    "Radius= float(input(\"Enter the radius of the circle\"))"
   ]
  },
  {
   "cell_type": "code",
   "execution_count": 3,
   "id": "8344a1f7-acc8-42eb-a583-0a4896d1a01c",
   "metadata": {},
   "outputs": [],
   "source": [
    "def AreaCirc(R):\n",
    "    return f\"The Area of the given circle is {pi*(R**2)}\""
   ]
  },
  {
   "cell_type": "code",
   "execution_count": 4,
   "id": "7d4c8128-8ce1-42ff-9f20-2cad25b4f27a",
   "metadata": {},
   "outputs": [
    {
     "name": "stdout",
     "output_type": "stream",
     "text": [
      "The Area of the given circle is 6446.830868505078\n"
     ]
    }
   ],
   "source": [
    "print(AreaCirc(Radius))"
   ]
  },
  {
   "cell_type": "markdown",
   "id": "dd2c6155-366d-4646-b268-406c016d6b71",
   "metadata": {},
   "source": [
    "## ========================================================================="
   ]
  },
  {
   "cell_type": "raw",
   "id": "aac9958e-daee-419e-959d-400519223dad",
   "metadata": {},
   "source": [
    "x = int(input(\"Enter number 1 : \"))\n",
    "y = int(input(\"Enter Number 2 : \"))"
   ]
  },
  {
   "cell_type": "code",
   "execution_count": 6,
   "id": "f85a2c09-f2b2-40cc-896e-33b208f25674",
   "metadata": {},
   "outputs": [
    {
     "name": "stdout",
     "output_type": "stream",
     "text": [
      "4*2 is : 8\n",
      "4-2 is : 2\n",
      "4+2 is : 6\n",
      "4/2 is : 2.0\n",
      "4 raised to power 2 is : 16\n"
     ]
    }
   ],
   "source": [
    "print(f\"{x}*{y} is : {x*y}\")\n",
    "print(f\"{x}-{y} is : {x-y}\")\n",
    "print(f\"{x}+{y} is : {x+y}\")\n",
    "print(f\"{x}/{y} is : {x/y}\")\n",
    "print(f\"{x} raised to power {y} is : {x**y}\")"
   ]
  },
  {
   "cell_type": "code",
   "execution_count": null,
   "id": "a526fe69-8d6f-41e9-ba08-9454344da52a",
   "metadata": {},
   "outputs": [],
   "source": []
  }
 ],
 "metadata": {
  "kernelspec": {
   "display_name": "Python 3 (ipykernel)",
   "language": "python",
   "name": "python3"
  },
  "language_info": {
   "codemirror_mode": {
    "name": "ipython",
    "version": 3
   },
   "file_extension": ".py",
   "mimetype": "text/x-python",
   "name": "python",
   "nbconvert_exporter": "python",
   "pygments_lexer": "ipython3",
   "version": "3.9.2"
  }
 },
 "nbformat": 4,
 "nbformat_minor": 5
}
