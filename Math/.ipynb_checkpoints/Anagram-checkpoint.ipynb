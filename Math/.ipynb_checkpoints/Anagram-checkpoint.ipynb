{
 "cells": [
  {
   "cell_type": "code",
   "execution_count": 40,
   "id": "f0a84966-9cab-412b-bc98-71b4d5f12960",
   "metadata": {},
   "outputs": [],
   "source": [
    "def CheckAna(str1, str2):\n",
    "    if len(str1) != len(str2):\n",
    "        return False\n",
    "        \n",
    "    for j in str2:\n",
    "        if j.lower() not in str1.lower():\n",
    "            return False\n",
    "        \n",
    "    return True\n",
    "    "
   ]
  },
  {
   "cell_type": "code",
   "execution_count": 43,
   "id": "91fc8d01-730c-431d-9d0d-51bd89d79b6d",
   "metadata": {},
   "outputs": [
    {
     "data": {
      "text/plain": [
       "True"
      ]
     },
     "execution_count": 43,
     "metadata": {},
     "output_type": "execute_result"
    }
   ],
   "source": [
    "CheckAna(\"Bad\" , \"dab\")"
   ]
  },
  {
   "cell_type": "code",
   "execution_count": null,
   "id": "03cc6b98-aeb5-4051-95ce-6dea628a04cd",
   "metadata": {},
   "outputs": [],
   "source": []
  }
 ],
 "metadata": {
  "kernelspec": {
   "display_name": "Python 3 (ipykernel)",
   "language": "python",
   "name": "python3"
  },
  "language_info": {
   "codemirror_mode": {
    "name": "ipython",
    "version": 3
   },
   "file_extension": ".py",
   "mimetype": "text/x-python",
   "name": "python",
   "nbconvert_exporter": "python",
   "pygments_lexer": "ipython3",
   "version": "3.9.2"
  }
 },
 "nbformat": 4,
 "nbformat_minor": 5
}
