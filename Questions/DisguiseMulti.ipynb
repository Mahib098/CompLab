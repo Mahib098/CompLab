{
 "cells": [
  {
   "cell_type": "code",
   "execution_count": 1,
   "id": "0f002724-3165-45fe-af51-6e246a424c67",
   "metadata": {},
   "outputs": [],
   "source": [
    "def DisguisedAdd(a , b):\n",
    "    if b == 1 : \n",
    "        return a\n",
    "    else:\n",
    "        return a + DisguisedAdd(a, b-1)"
   ]
  },
  {
   "cell_type": "code",
   "execution_count": 4,
   "id": "f244eb6a-25b3-420b-9733-355bc92ec166",
   "metadata": {},
   "outputs": [
    {
     "data": {
      "text/plain": [
       "40"
      ]
     },
     "execution_count": 4,
     "metadata": {},
     "output_type": "execute_result"
    }
   ],
   "source": [
    "DisguisedAdd(5,8)"
   ]
  },
  {
   "cell_type": "code",
   "execution_count": null,
   "id": "78b5f934-3ef6-4ebb-9a26-d3f6546f73e3",
   "metadata": {},
   "outputs": [],
   "source": []
  }
 ],
 "metadata": {
  "kernelspec": {
   "display_name": "Python 3 (ipykernel)",
   "language": "python",
   "name": "python3"
  },
  "language_info": {
   "codemirror_mode": {
    "name": "ipython",
    "version": 3
   },
   "file_extension": ".py",
   "mimetype": "text/x-python",
   "name": "python",
   "nbconvert_exporter": "python",
   "pygments_lexer": "ipython3",
   "version": "3.9.2"
  }
 },
 "nbformat": 4,
 "nbformat_minor": 5
}
