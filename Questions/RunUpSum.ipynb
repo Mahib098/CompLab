{
 "cells": [
  {
   "cell_type": "code",
   "execution_count": 2,
   "id": "41e5d576-7bc3-4f6f-8fe3-eef1f857a9c2",
   "metadata": {},
   "outputs": [],
   "source": [
    "def RunUpSum(L):\n",
    "    L2 = [L[0]]\n",
    "\n",
    "    for i in range(1 ,len(L)):\n",
    "        L2.append(L[i] + L2[i-1])\n",
    "    return L2"
   ]
  },
  {
   "cell_type": "code",
   "execution_count": 4,
   "id": "e8d734de-9ed9-471b-8cc6-44f73c54c874",
   "metadata": {},
   "outputs": [
    {
     "name": "stdout",
     "output_type": "stream",
     "text": [
      "[1, 3, 6, 10, 15, 21, 28, 36]\n"
     ]
    }
   ],
   "source": [
    "print(RunUpSum([1,2,3,4,5,6,7,8]))"
   ]
  },
  {
   "cell_type": "code",
   "execution_count": null,
   "id": "83449680-cabd-4f11-9d9e-f93a43854174",
   "metadata": {},
   "outputs": [],
   "source": []
  }
 ],
 "metadata": {
  "kernelspec": {
   "display_name": "Python 3 (ipykernel)",
   "language": "python",
   "name": "python3"
  },
  "language_info": {
   "codemirror_mode": {
    "name": "ipython",
    "version": 3
   },
   "file_extension": ".py",
   "mimetype": "text/x-python",
   "name": "python",
   "nbconvert_exporter": "python",
   "pygments_lexer": "ipython3",
   "version": "3.9.2"
  }
 },
 "nbformat": 4,
 "nbformat_minor": 5
}
