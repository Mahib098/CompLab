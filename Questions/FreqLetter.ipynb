{
 "cells": [
  {
   "cell_type": "code",
   "execution_count": 2,
   "id": "e7867904-fe9e-496c-9458-b02f9ad4727d",
   "metadata": {},
   "outputs": [
    {
     "name": "stdin",
     "output_type": "stream",
     "text": [
      "Enter a Sentence :  my name is mahib\n"
     ]
    }
   ],
   "source": [
    "Sentence = input(\"Enter a Sentence : \")"
   ]
  },
  {
   "cell_type": "code",
   "execution_count": 11,
   "id": "0a3eb9a0-a6fb-4157-af32-a902b1a5fc0f",
   "metadata": {},
   "outputs": [
    {
     "name": "stdout",
     "output_type": "stream",
     "text": [
      "<class 'str'>\n"
     ]
    }
   ],
   "source": [
    "dict1 = {}\n",
    "print(type(Sentence))\n",
    "for i in range(len(Sentence)):\n",
    "    if Sentence[i] not in dict1:\n",
    "        dict1[Sentence[i]] = 1 \n",
    "    else:\n",
    "        dict1[Sentence[i]] += 1\n"
   ]
  },
  {
   "cell_type": "code",
   "execution_count": 12,
   "id": "ae91e175-1120-4f52-9e5a-bf456d6c8475",
   "metadata": {},
   "outputs": [
    {
     "name": "stdout",
     "output_type": "stream",
     "text": [
      "{'m': 3, 'y': 1, ' ': 3, 'n': 1, 'a': 2, 'e': 1, 'i': 2, 's': 1, 'h': 1, 'b': 1}\n"
     ]
    }
   ],
   "source": [
    "print(dict1)"
   ]
  },
  {
   "cell_type": "code",
   "execution_count": null,
   "id": "d7ef153e-00f5-4fb3-b3a0-7632c592fa62",
   "metadata": {},
   "outputs": [],
   "source": []
  }
 ],
 "metadata": {
  "kernelspec": {
   "display_name": "Python 3 (ipykernel)",
   "language": "python",
   "name": "python3"
  },
  "language_info": {
   "codemirror_mode": {
    "name": "ipython",
    "version": 3
   },
   "file_extension": ".py",
   "mimetype": "text/x-python",
   "name": "python",
   "nbconvert_exporter": "python",
   "pygments_lexer": "ipython3",
   "version": "3.9.2"
  }
 },
 "nbformat": 4,
 "nbformat_minor": 5
}
