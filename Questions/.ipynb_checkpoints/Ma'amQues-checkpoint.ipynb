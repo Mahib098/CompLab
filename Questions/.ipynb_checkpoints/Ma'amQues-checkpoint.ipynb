{
 "cells": [
  {
   "cell_type": "code",
   "execution_count": 12,
   "id": "c8f9aacf-5fba-416f-b66f-d8cb938c8b5c",
   "metadata": {},
   "outputs": [],
   "source": [
    "def FibSeries(Nth):\n",
    "    n1 = 0 \n",
    "    n2 = 1\n",
    "\n",
    "    for i in range(Nth//2):\n",
    "        print(n1 , end = \" \")\n",
    "        print(n2 , end = \" \")\n",
    "        n1 = n1 + n2\n",
    "        n2 = n1 + n2\n",
    "\n",
    "    if Nth%2 == 0 :\n",
    "        return\n",
    "    else:\n",
    "        print(n1 , end = \" \")"
   ]
  },
  {
   "cell_type": "code",
   "execution_count": 15,
   "id": "16acfd67-3c1a-4ede-bbf2-c3b439795fef",
   "metadata": {},
   "outputs": [
    {
     "name": "stdout",
     "output_type": "stream",
     "text": [
      "0 1 1 2 3 5 8 13 21 34 55 89 144 233 377 610 987 1597 2584 4181 "
     ]
    }
   ],
   "source": [
    "FibSeries(20)"
   ]
  },
  {
   "cell_type": "code",
   "execution_count": 23,
   "id": "594aedcc-dfa7-403a-8990-cbfa251f8095",
   "metadata": {},
   "outputs": [],
   "source": [
    "#month/date/year\n",
    "MonthList = [\"January\" , \"February\" , \"March\" , \"April\" , \"May \" , \"June\" , \"July\" , \"August\" , \"September\" , \"October\" , \"November\" , \"December\"]"
   ]
  },
  {
   "cell_type": "code",
   "execution_count": 42,
   "id": "91a8ed55-aa4d-4a71-adc1-80da0e051e45",
   "metadata": {},
   "outputs": [],
   "source": [
    "def getDate():\n",
    "    while True:\n",
    "        string = input(\"Enter Date : \")\n",
    "        List = string.split(\"/\")\n",
    "        Mon , Day  = int(List[0]) , int(List[1])\n",
    "        if Mon <=12 :\n",
    "            if Mon == 2 and Day > 28 :\n",
    "                continue\n",
    "            elif Mon in [4,6,9,11] and Day > 30:\n",
    "                continue\n",
    "            elif Day > 31:\n",
    "                continue\n",
    "            else: \n",
    "                return List\n",
    "        else:\n",
    "            continue"
   ]
  },
  {
   "cell_type": "code",
   "execution_count": 43,
   "id": "6d0c5bcb-5e28-4a0c-8ab8-31b0ff9cee6b",
   "metadata": {},
   "outputs": [
    {
     "name": "stdin",
     "output_type": "stream",
     "text": [
      "Enter Date :  09/23/2023\n"
     ]
    }
   ],
   "source": [
    "Date = getDate()"
   ]
  },
  {
   "cell_type": "code",
   "execution_count": 45,
   "id": "b7fdf6e4-2927-4c29-8f02-e6dece8105b1",
   "metadata": {},
   "outputs": [],
   "source": [
    "def printDate(Date):\n",
    "    print(f\"The Date is {MonthList[int(Date[0]) - 1]} {Date[1]} , {Date[2]}\")"
   ]
  },
  {
   "cell_type": "code",
   "execution_count": 46,
   "id": "84b245f8-8dd8-4179-afaa-30b2c74fd657",
   "metadata": {},
   "outputs": [
    {
     "name": "stdout",
     "output_type": "stream",
     "text": [
      "The Date is September 23 , 2023\n"
     ]
    }
   ],
   "source": [
    "printDate(Date)"
   ]
  },
  {
   "cell_type": "code",
   "execution_count": 47,
   "id": "d00c79f1-4c06-48a6-84e2-95dbefd2b721",
   "metadata": {},
   "outputs": [],
   "source": [
    "#replace repeat letter with * in the string input"
   ]
  },
  {
   "cell_type": "code",
   "execution_count": 48,
   "id": "899330a0-71f4-4395-8dbd-77ee4e37c0a4",
   "metadata": {},
   "outputs": [
    {
     "name": "stdin",
     "output_type": "stream",
     "text": [
      "Enter a string :  Balloon\n"
     ]
    }
   ],
   "source": [
    "string = input(\"Enter a string : \")"
   ]
  },
  {
   "cell_type": "code",
   "execution_count": 56,
   "id": "c85618c4-c97f-4389-a9a0-69ceb432f4fa",
   "metadata": {},
   "outputs": [],
   "source": [
    "def Replace(Str):\n",
    "    newstr = Str[0]\n",
    "    for i in range(1, len(Str)):\n",
    "        if Str[i] == Str[i-1]:\n",
    "            newstr += \"*\"\n",
    "        else:\n",
    "            newstr += Str[i]\n",
    "    return newstr\n"
   ]
  },
  {
   "cell_type": "code",
   "execution_count": 57,
   "id": "207990c8-7e65-43db-96ca-6e0a5884ba04",
   "metadata": {},
   "outputs": [
    {
     "name": "stdout",
     "output_type": "stream",
     "text": [
      "Bal*o*n\n"
     ]
    }
   ],
   "source": [
    "print(Replace(string))"
   ]
  },
  {
   "cell_type": "code",
   "execution_count": null,
   "id": "1862e963-6f2b-46a9-b0c1-5e05ff2595e3",
   "metadata": {},
   "outputs": [],
   "source": []
  }
 ],
 "metadata": {
  "kernelspec": {
   "display_name": "Python 3 (ipykernel)",
   "language": "python",
   "name": "python3"
  },
  "language_info": {
   "codemirror_mode": {
    "name": "ipython",
    "version": 3
   },
   "file_extension": ".py",
   "mimetype": "text/x-python",
   "name": "python",
   "nbconvert_exporter": "python",
   "pygments_lexer": "ipython3",
   "version": "3.9.2"
  }
 },
 "nbformat": 4,
 "nbformat_minor": 5
}
