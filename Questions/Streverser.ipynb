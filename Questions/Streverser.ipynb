{
 "cells": [
  {
   "cell_type": "code",
   "execution_count": 12,
   "id": "3bb1c011-258e-4517-a815-1b708861dc06",
   "metadata": {},
   "outputs": [],
   "source": [
    "def Streverse(str1):\n",
    "    if str1 == \"\":\n",
    "        return str1\n",
    "    else:\n",
    "        return str1[-1] + Streverse(str1[:len(str1)-1])"
   ]
  },
  {
   "cell_type": "code",
   "execution_count": 13,
   "id": "19fcfe29-2f92-44fe-9ed8-3271e212a032",
   "metadata": {},
   "outputs": [
    {
     "data": {
      "text/plain": [
       "'yppaH'"
      ]
     },
     "execution_count": 13,
     "metadata": {},
     "output_type": "execute_result"
    }
   ],
   "source": [
    "Streverse(\"Happy\")"
   ]
  },
  {
   "cell_type": "code",
   "execution_count": null,
   "id": "b3df48c2-e5cd-4b92-aec9-ebf5bf38a3a6",
   "metadata": {},
   "outputs": [],
   "source": []
  }
 ],
 "metadata": {
  "kernelspec": {
   "display_name": "Python 3 (ipykernel)",
   "language": "python",
   "name": "python3"
  },
  "language_info": {
   "codemirror_mode": {
    "name": "ipython",
    "version": 3
   },
   "file_extension": ".py",
   "mimetype": "text/x-python",
   "name": "python",
   "nbconvert_exporter": "python",
   "pygments_lexer": "ipython3",
   "version": "3.9.2"
  }
 },
 "nbformat": 4,
 "nbformat_minor": 5
}
