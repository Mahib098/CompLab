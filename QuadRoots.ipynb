{
 "cells": [
  {
   "cell_type": "code",
   "execution_count": 15,
   "id": "d5e0c104-273f-4b3d-9358-873f2fd4f6a7",
   "metadata": {},
   "outputs": [],
   "source": [
    "L = []"
   ]
  },
  {
   "cell_type": "code",
   "execution_count": 16,
   "id": "aa3fcd6e-e740-44b2-a34d-ca915cc8bdbe",
   "metadata": {},
   "outputs": [
    {
     "name": "stdin",
     "output_type": "stream",
     "text": [
      "enter the coeeficient of x0 1\n",
      "enter the coeeficient of x1 -2\n",
      "enter the coeeficient of x2 1\n"
     ]
    },
    {
     "data": {
      "text/plain": [
       "[1, -2, 1]"
      ]
     },
     "execution_count": 16,
     "metadata": {},
     "output_type": "execute_result"
    }
   ],
   "source": [
    "for i in range(3):\n",
    "    coeff = int(input(f\"enter the coeeficient of x{i}\"))\n",
    "    L.append(coeff)\n",
    "L"
   ]
  },
  {
   "cell_type": "code",
   "execution_count": 17,
   "id": "621f3ba7-6aed-4c00-94f9-f9766f9432f4",
   "metadata": {},
   "outputs": [
    {
     "name": "stdout",
     "output_type": "stream",
     "text": [
      "The Quadratic eqation is 1x^2 + -2x + 1\n"
     ]
    }
   ],
   "source": [
    "print(f\"The Quadratic eqation is {L[2]}x^2 + {L[1]}x + {L[0]}\")"
   ]
  },
  {
   "cell_type": "code",
   "execution_count": 18,
   "id": "0b555411-82bd-4321-adf1-79f94ee20b66",
   "metadata": {},
   "outputs": [
    {
     "data": {
      "text/plain": [
       "[1.0, 1.0]"
      ]
     },
     "execution_count": 18,
     "metadata": {},
     "output_type": "execute_result"
    }
   ],
   "source": [
    "roots = [ (-L[1] + ((L[1]**2)- 4*L[2]*L[0])**0.5)/2*L[2] , (-L[1] - ((L[1]**2)- 4*L[2]*L[0])**0.5)/2*L[2]]\n",
    "roots"
   ]
  },
  {
   "cell_type": "code",
   "execution_count": 23,
   "id": "e16863d6-545f-41ba-8fa7-83f085d50ad3",
   "metadata": {},
   "outputs": [
    {
     "name": "stdout",
     "output_type": "stream",
     "text": [
      "The roots are real and equal\n"
     ]
    }
   ],
   "source": [
    "if ((L[1]**2)- 4*L[2]*L[0]) > 0 : \n",
    "    print(\"The roots are real\")\n",
    "elif ((L[1]**2)- 4*L[2]*L[0]) < 0 : \n",
    "    print(\"The roots are imaginary\")\n",
    "else:\n",
    "    print(\"The roots are real and equal\")"
   ]
  },
  {
   "cell_type": "code",
   "execution_count": 24,
   "id": "0918513c-36e1-447c-b6b1-c4a5a7cbea30",
   "metadata": {},
   "outputs": [
    {
     "name": "stdout",
     "output_type": "stream",
     "text": [
      "The root is 1.0\n"
     ]
    }
   ],
   "source": [
    "if roots[0] == roots[1]:\n",
    "    print(f\"The root is {roots[0]}\")\n",
    "else:\n",
    "    print(f\"The roots are : \\n{roots[0]}\\n{roots[1]}\")"
   ]
  },
  {
   "cell_type": "code",
   "execution_count": null,
   "id": "b26d66ea-cd30-46f9-889a-9fb122bb8327",
   "metadata": {},
   "outputs": [],
   "source": []
  }
 ],
 "metadata": {
  "kernelspec": {
   "display_name": "Python 3 (ipykernel)",
   "language": "python",
   "name": "python3"
  },
  "language_info": {
   "codemirror_mode": {
    "name": "ipython",
    "version": 3
   },
   "file_extension": ".py",
   "mimetype": "text/x-python",
   "name": "python",
   "nbconvert_exporter": "python",
   "pygments_lexer": "ipython3",
   "version": "3.9.2"
  }
 },
 "nbformat": 4,
 "nbformat_minor": 5
}
